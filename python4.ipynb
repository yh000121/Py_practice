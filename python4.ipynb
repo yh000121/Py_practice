{
  "cells": [
    {
      "cell_type": "markdown",
      "metadata": {
        "id": "view-in-github",
        "colab_type": "text"
      },
      "source": [
        "<a href=\"https://colab.research.google.com/github/yh000121/Py_practice/blob/main/python4.ipynb\" target=\"_parent\"><img src=\"https://colab.research.google.com/assets/colab-badge.svg\" alt=\"Open In Colab\"/></a>"
      ]
    },
    {
      "cell_type": "markdown",
      "metadata": {
        "id": "7c3ZagWDHs7O"
      },
      "source": [
        "# CSMAD21 - Applied Data Science with Python\n",
        "\n",
        "## Practical 4: Functional Programming"
      ]
    },
    {
      "cell_type": "markdown",
      "metadata": {
        "id": "BWkg9IpbHs7S"
      },
      "source": [
        "Follow the instructions to complete each of these tasks, and use the *Testing* cells to check your answer.\n",
        "\n",
        "This set of exercises focuses on writing functional programming in Python.\n",
        "\n",
        "This is not assessed but will help you gain practical experience for the coursework.\n",
        "\n"
      ]
    },
    {
      "cell_type": "markdown",
      "metadata": {
        "id": "L063LKdfyakQ"
      },
      "source": [
        "<hr style=\"border:2px solid black\"> </hr>"
      ]
    },
    {
      "cell_type": "markdown",
      "metadata": {
        "id": "AjBSteXmHs8a"
      },
      "source": [
        "## Exercise 1 - Palindrome\n",
        "\n",
        "Write a function palindrome(s) to determine if a string s is a palindrome (the same backwards as forwards), returning True if it is and False otherwise. The function should ignore capitalisation (you can use the lower() method for strings for this)."
      ]
    },
    {
      "cell_type": "code",
      "execution_count": 5,
      "metadata": {
        "id": "FRtoOhMzHs8c"
      },
      "outputs": [],
      "source": [
        "def palindrome(x):\n",
        "    x = x.lower()\n",
        "    if x == x[::-1]:\n",
        "        return True\n",
        "    else:\n",
        "        return False"
      ]
    },
    {
      "cell_type": "code",
      "execution_count": 6,
      "metadata": {
        "colab": {
          "base_uri": "https://localhost:8080/"
        },
        "id": "WlH8qes3Hs8n",
        "outputId": "1295ab54-1faa-4933-b687-7184cdccf970"
      },
      "outputs": [
        {
          "output_type": "stream",
          "name": "stdout",
          "text": [
            "True\n",
            "False\n",
            "True\n"
          ]
        }
      ],
      "source": [
        "# Testing\n",
        "print(palindrome(\"Kayak\"))  # True\n",
        "print(palindrome(\"Python\")) # False\n",
        "print(palindrome(\"civic\"))  # True"
      ]
    },
    {
      "cell_type": "markdown",
      "metadata": {
        "id": "CAk8CoTpyakR"
      },
      "source": [
        "***\n",
        "Then use **map()** to check whether each of the string in a list is Palindrome or not.\n",
        "\n",
        "List of strings: ['Kayak', 'Python', 'civic']\n",
        "\n",
        "Expected output: [True, False, True]"
      ]
    },
    {
      "cell_type": "code",
      "execution_count": 10,
      "metadata": {
        "scrolled": true,
        "colab": {
          "base_uri": "https://localhost:8080/"
        },
        "id": "kPWU7uSfyakS",
        "outputId": "451498db-95a7-432e-f077-2fdc9a950901"
      },
      "outputs": [
        {
          "output_type": "execute_result",
          "data": {
            "text/plain": [
              "[True, False, True]"
            ]
          },
          "metadata": {},
          "execution_count": 10
        }
      ],
      "source": [
        "list(map(palindrome,['Kayak', 'Python', 'civic']))"
      ]
    },
    {
      "cell_type": "markdown",
      "metadata": {
        "id": "5hYNsZhyyakS"
      },
      "source": [
        "<hr style=\"border:2px solid black\"> </hr>"
      ]
    },
    {
      "cell_type": "markdown",
      "metadata": {
        "id": "TMIbmNPAyakS"
      },
      "source": [
        "## Exercise 2 - Anagram\n",
        "\n",
        "Write a function isAnagram(s1, s2) that accepts two strings s1 and s2, and returns True if the two strings are anagrams and False if they are not. Ensure that capital letters and spaces do not affect the string comparison.\n",
        "\n",
        "An anagram is a word or phrase formed by rearranging the letters of a different word or phrase, typically using all the original letters exactly once. https://en.wikipedia.org/wiki/Anagram"
      ]
    },
    {
      "cell_type": "code",
      "execution_count": 24,
      "metadata": {
        "id": "w5GNs-1nyakS"
      },
      "outputs": [],
      "source": [
        "def isAnagram(x,y):\n",
        "\n",
        "  x = sorted(x.lower())\n",
        "  y = sorted(y.lower())\n",
        "  if x == y:\n",
        "    return True\n",
        "  else:\n",
        "    return False"
      ]
    },
    {
      "cell_type": "code",
      "execution_count": 25,
      "metadata": {
        "colab": {
          "base_uri": "https://localhost:8080/"
        },
        "id": "f4gH9PjCyakS",
        "outputId": "ae846f22-0bb7-4a2f-92fa-f35c02be3939"
      },
      "outputs": [
        {
          "output_type": "stream",
          "name": "stdout",
          "text": [
            "True\n",
            "True\n",
            "False\n",
            "False\n"
          ]
        }
      ],
      "source": [
        "# Testing\n",
        "print(isAnagram('car', 'arc'))           # True\n",
        "print(isAnagram('streSsed', 'Desserts')) # True\n",
        "print(isAnagram('bragg', 'grab'))        # False\n",
        "print(isAnagram('holes', 'soles'))       # False"
      ]
    },
    {
      "cell_type": "markdown",
      "metadata": {
        "id": "-uHQNBanyakT"
      },
      "source": [
        "***\n",
        "Then use **map()** to check whether each of the pair of strings in a list is Anagram or not.\n",
        "\n",
        "List of strings: [ ['car', 'arc'], ['streSsed', 'Desserts'], ['bragg', 'grab'], ['holes', 'soles'] ]\n",
        "\n",
        "Expected output: [True, True, False, False]\n",
        "\n",
        "Hint: modify the previous isAnagram(s1, s2) function to isAnagram(p) where p is a list of a pair of strings, e.g. ['car', 'arc']."
      ]
    },
    {
      "cell_type": "code",
      "execution_count": 26,
      "metadata": {
        "colab": {
          "base_uri": "https://localhost:8080/"
        },
        "id": "WH51rK-GyakT",
        "outputId": "1f1ebcfd-aa35-4d0d-d5dd-bdce84389ddf"
      },
      "outputs": [
        {
          "output_type": "stream",
          "name": "stdout",
          "text": [
            "[True, True, False, False]\n"
          ]
        }
      ],
      "source": [
        "def isAnagram(p):\n",
        "  x,y = p\n",
        "  x = sorted(x.lower())\n",
        "  y = sorted(y.lower())\n",
        "  if x == y:\n",
        "    return True\n",
        "  else:\n",
        "    return False\n",
        "\n",
        "\n",
        "pairs = [ ['car', 'arc'], ['streSsed', 'Desserts'], ['bragg', 'grab'], ['holes', 'soles'] ]\n",
        "result = list(map(isAnagram, pairs))\n",
        "print(result)  # Expected output: [True, True, False, False]"
      ]
    },
    {
      "cell_type": "markdown",
      "metadata": {
        "id": "6BbeVzj8yakT"
      },
      "source": [
        "<hr style=\"border:2px solid black\"> </hr>"
      ]
    },
    {
      "cell_type": "markdown",
      "metadata": {
        "id": "e6CC32ZdHs8-"
      },
      "source": [
        "## Exercise 3 - Filtering email addresses\n",
        "\n",
        "Use **filter()** and **lambda** to write a statement to filter valid email address with the \"@\" symbol to a list *valid_emails*.\n"
      ]
    },
    {
      "cell_type": "code",
      "execution_count": 27,
      "metadata": {
        "id": "CB-W4J4NHs8_"
      },
      "outputs": [],
      "source": [
        "# Test with the following list:\n",
        "emlist = ['lupita@gmail.com','chanclaATgmail.om','I lost my email','pure123@reading.ac.uk', 'notanemail', 'amy@abc.com', 'ben@abccom', 'test123@school.edu.hk']\n"
      ]
    },
    {
      "cell_type": "markdown",
      "metadata": {
        "id": "fBQAuTuxyakT"
      },
      "source": [
        "Expected output:\n",
        "\n",
        "['lupita@gmail.com', 'pure123@reading.ac.uk', 'amy@abc.com', 'ben@abccom', 'test123@school.edu.hk']\n"
      ]
    },
    {
      "cell_type": "code",
      "execution_count": 56,
      "metadata": {
        "colab": {
          "base_uri": "https://localhost:8080/"
        },
        "id": "mgI2cplcyakU",
        "outputId": "1523e3ac-11b9-456e-c2ba-5accfdd0d82d"
      },
      "outputs": [
        {
          "output_type": "stream",
          "name": "stdout",
          "text": [
            "['lupita@gmail.com', 'pure123@reading.ac.uk', 'amy@abc.com', 'ben@abccom', 'test123@school.edu.hk']\n"
          ]
        }
      ],
      "source": [
        "a = list(filter(lambda x : '@' in x,emlist))\n",
        "print(a)"
      ]
    },
    {
      "cell_type": "markdown",
      "metadata": {
        "id": "eWB75Sz-yakU"
      },
      "source": [
        "***\n",
        "Then use **filter()** and **lambda** to filter valid email addresses with:\n",
        "- '.com' to a list *commerical_emails*, and\n",
        "- '.ac' or '.edu' to a list *academic_emails*.\n",
        "\n",
        "Expected output: <br>\n",
        "commerical_emails: ['lupita@gmail.com', 'amy@abc.com'] <br>\n",
        "academic_emails: ['pure123@reading.ac.uk', 'test123@school.edu.hk'] <br>"
      ]
    },
    {
      "cell_type": "code",
      "execution_count": 57,
      "metadata": {
        "colab": {
          "base_uri": "https://localhost:8080/"
        },
        "id": "WUeGyc41yakU",
        "outputId": "d513ecbd-89f0-421e-b8d3-d3fa8d86eb9e"
      },
      "outputs": [
        {
          "output_type": "stream",
          "name": "stdout",
          "text": [
            "['lupita@gmail.com', 'amy@abc.com']\n"
          ]
        }
      ],
      "source": [
        "b = list(filter(lambda x : '.com' in x,a))\n",
        "print(b)"
      ]
    },
    {
      "cell_type": "code",
      "source": [
        "#a = list(filter(lambda x : ('.ac' )or ('.edu') in x,a))\n",
        "a = list(filter(lambda x: ('.ac') or ('.edu'), a))\n",
        "print(a)"
      ],
      "metadata": {
        "colab": {
          "base_uri": "https://localhost:8080/"
        },
        "id": "VfAgAxkc4KSd",
        "outputId": "d07249be-4631-44c2-f0a7-5e3ad6d7c3ce"
      },
      "execution_count": 58,
      "outputs": [
        {
          "output_type": "stream",
          "name": "stdout",
          "text": [
            "['lupita@gmail.com', 'pure123@reading.ac.uk', 'amy@abc.com', 'ben@abccom', 'test123@school.edu.hk']\n"
          ]
        }
      ]
    },
    {
      "cell_type": "markdown",
      "metadata": {
        "id": "0LezdDCbyakU"
      },
      "source": [
        "<hr style=\"border:2px solid black\"> </hr>"
      ]
    },
    {
      "cell_type": "markdown",
      "metadata": {
        "id": "7UrWra9RyakU"
      },
      "source": [
        "## Exercise 4 - List comprehension (1)\n",
        "\n",
        "Given a dictionary consisted of vehicles and their weights in kilograms. Contruct a list of the names of vehicles with weight below 5000 kilograms. In the same list comprehension make the key names all upper case."
      ]
    },
    {
      "cell_type": "code",
      "execution_count": 66,
      "metadata": {
        "id": "6MJ2FLJKyakU"
      },
      "outputs": [],
      "source": [
        "# Test with the following dictionary:\n",
        "cars = {\"Sedan\": 1500, \"SUV\": 2000, \"Pickup\": 2500, \"Minivan\": 1600, \"Van\": 2400, \"Semi\": 13600, \"Bicycle\": 7, \"Motorcycle\": 110}"
      ]
    },
    {
      "cell_type": "markdown",
      "metadata": {
        "id": "zHc0y7_1yakU"
      },
      "source": [
        "Expected output:\n",
        "\n",
        "['SEDAN', 'SUV', 'PICKUP', 'MINIVAN', 'VAN', 'BICYCLE', 'MOTORCYCLE']"
      ]
    },
    {
      "cell_type": "code",
      "execution_count": 67,
      "metadata": {
        "colab": {
          "base_uri": "https://localhost:8080/"
        },
        "id": "NOj3uV2PyakU",
        "outputId": "65b09e20-71e2-47f4-de85-a686cdd413b6"
      },
      "outputs": [
        {
          "output_type": "stream",
          "name": "stdout",
          "text": [
            "['SEDAN', 'SUV', 'PICKUP', 'MINIVAN', 'VAN', 'BICYCLE', 'MOTORCYCLE']\n"
          ]
        }
      ],
      "source": [
        "a = [name.upper() for name, weight in cars.items() if weight < 5000]\n",
        "print(a)"
      ]
    },
    {
      "cell_type": "markdown",
      "metadata": {
        "id": "75jbhGqNyakU"
      },
      "source": [
        "<hr style=\"border:2px solid black\"> </hr>"
      ]
    },
    {
      "cell_type": "markdown",
      "metadata": {
        "id": "wMoqIFqKyakV"
      },
      "source": [
        "## Exercise 5 - List comprehension (2)\n",
        "\n",
        "Given a list of items with [item name, price in GBP, in stock or not]:"
      ]
    },
    {
      "cell_type": "code",
      "execution_count": 70,
      "metadata": {
        "id": "QUbwEMh1yakV"
      },
      "outputs": [],
      "source": [
        "items = [\n",
        "    ['detergent', 6.6, True],\n",
        "    ['tooth paste', 4.8, True],\n",
        "    ['olive oil', 7.3, False],\n",
        "    ['rice', 26, True],\n",
        "    ['wine', 15, False]\n",
        "]"
      ]
    },
    {
      "cell_type": "markdown",
      "metadata": {
        "id": "jjOB6rY0yakV"
      },
      "source": [
        "***\n",
        "(1) Use list comprehension to print a list of item prices in USD (GBP\\*1.25).\n",
        "\n",
        "Excpected output:\n",
        "\n",
        "[8.25, 6.0, 9.125, 32.5, 18.75]\n"
      ]
    },
    {
      "cell_type": "code",
      "execution_count": 76,
      "metadata": {
        "colab": {
          "base_uri": "https://localhost:8080/"
        },
        "id": "gHEzG74iyakV",
        "outputId": "a3d9f586-d730-4252-8738-34c8d93edd43"
      },
      "outputs": [
        {
          "output_type": "stream",
          "name": "stdout",
          "text": [
            "[8.25, 6.0, 9.125, 32.5, 18.75]\n"
          ]
        }
      ],
      "source": [
        "out_of_stock_items = [price*1.25 for name, price, in_stock in items]\n",
        "\n",
        "print(out_of_stock_items)"
      ]
    },
    {
      "cell_type": "markdown",
      "metadata": {
        "id": "vQLLFdb1yakV"
      },
      "source": [
        "***\n",
        "(2) Use list comprehension to print a list of item names that are out of stock.\n",
        "\n",
        "Excpected output:\n",
        "\n",
        "['olive oil', 'wine']\n"
      ]
    },
    {
      "cell_type": "code",
      "execution_count": 73,
      "metadata": {
        "colab": {
          "base_uri": "https://localhost:8080/"
        },
        "id": "G1poNWspyakV",
        "outputId": "c04b083b-c76a-46a8-f797-7fb5c1462fc4"
      },
      "outputs": [
        {
          "output_type": "stream",
          "name": "stdout",
          "text": [
            "['olive oil', 'wine']\n"
          ]
        }
      ],
      "source": [
        "out_of_stock_items = [name for name, _, in_stock in items if not in_stock]\n",
        "\n",
        "print(out_of_stock_items)"
      ]
    },
    {
      "cell_type": "markdown",
      "metadata": {
        "id": "7fe3lEepyakV"
      },
      "source": [
        "***\n",
        "(3) Use list comprehension to print a list of [item name, USD price] for items that are in stock.\n",
        "\n",
        "Excpected output:\n",
        "\n",
        "[['detergent', 8.25], ['tooth paste', 6.0], ['rice', 32.5]]\n"
      ]
    },
    {
      "cell_type": "code",
      "execution_count": 75,
      "metadata": {
        "colab": {
          "base_uri": "https://localhost:8080/"
        },
        "id": "QvtJMMP3yakV",
        "outputId": "116920b9-4f3a-42dc-949d-bebe46aa40a2"
      },
      "outputs": [
        {
          "output_type": "stream",
          "name": "stdout",
          "text": [
            "[('detergent', 8.25), ('tooth paste', 6.0), ('rice', 32.5)]\n"
          ]
        }
      ],
      "source": [
        "out_of_stock_items = [(name, price*1.25) for name, price, in_stock in items if in_stock]\n",
        "\n",
        "print(out_of_stock_items)"
      ]
    },
    {
      "cell_type": "markdown",
      "metadata": {
        "id": "rW8UQ8fkyakV"
      },
      "source": [
        "***\n",
        "(4) Use list comprehension to print a list of item names that are in stock and with price>=10.\n",
        "\n",
        "Excpected output:\n",
        "\n",
        "['rice']\n"
      ]
    },
    {
      "cell_type": "code",
      "execution_count": 81,
      "metadata": {
        "colab": {
          "base_uri": "https://localhost:8080/"
        },
        "id": "fa5b-AIEyakW",
        "outputId": "94ab414b-427b-412a-875a-74b44a1927fb"
      },
      "outputs": [
        {
          "output_type": "stream",
          "name": "stdout",
          "text": [
            "['rice']\n"
          ]
        }
      ],
      "source": [
        "out_of_stock_items = [name for name, price, in_stock in items if price >= 10 and in_stock]\n",
        "\n",
        "print(out_of_stock_items)"
      ]
    },
    {
      "cell_type": "code",
      "source": [],
      "metadata": {
        "id": "J4LLUHVA-wAa"
      },
      "execution_count": null,
      "outputs": []
    }
  ],
  "metadata": {
    "colab": {
      "provenance": [],
      "include_colab_link": true
    },
    "kernelspec": {
      "display_name": "Python 3",
      "language": "python",
      "name": "python3"
    },
    "language_info": {
      "codemirror_mode": {
        "name": "ipython",
        "version": 3
      },
      "file_extension": ".py",
      "mimetype": "text/x-python",
      "name": "python",
      "nbconvert_exporter": "python",
      "pygments_lexer": "ipython3",
      "version": "3.8.3"
    }
  },
  "nbformat": 4,
  "nbformat_minor": 0
}